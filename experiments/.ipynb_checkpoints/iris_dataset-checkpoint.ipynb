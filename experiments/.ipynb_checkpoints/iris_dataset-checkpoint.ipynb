{
 "cells": [
  {
   "cell_type": "markdown",
   "metadata": {},
   "source": [
    "# IRIS Dataset\n",
    "\n",
    "In this example, I will explain how to use `QII` to explain a data point in IRIS Dataset. Here are all the required steps:\n",
    "1. Determine the Quantity of interest that we want to evaluate:\n",
    "    - Define a trained classifier inheriting the `QIIPredictor`, with predict() method to output quantity of interest.\n",
    "    - Define a `QuantityOfInterest` instance with appropriate way to compute quantity of interest from output of QIIPredictor.predict()\n",
    "2. Use QII to compute Shapley/Banzhaf values for each chosen feature.\n",
    "\n",
    "Dataset (according to Wikipedia): The data set consists of 50 samples from each of three species of Iris (Iris setosa, Iris virginica and Iris versicolor). Four features were measured from each sample: the length and the width of the sepals and petals, in centimeters. "
   ]
  },
  {
   "cell_type": "markdown",
   "metadata": {},
   "source": [
    "## Train a classifier"
   ]
  },
  {
   "cell_type": "code",
   "execution_count": 1,
   "metadata": {},
   "outputs": [],
   "source": [
    "# Adapted from: https://scikit-learn.org/stable/auto_examples/classification/plot_classification_probability.html#sphx-glr-auto-examples-classification-plot-classification-probability-py\n",
    "# Author: Alexandre Gramfort <alexandre.gramfort@inria.fr>\n",
    "# License: BSD 3 clause\n",
    "\n",
    "from sklearn.linear_model import LogisticRegression\n",
    "from sklearn import datasets\n",
    "import pickle\n",
    "\n",
    "iris = datasets.load_iris()\n",
    "X = iris.data\n",
    "y = iris.target\n",
    "\n",
    "n_features = X.shape[1]\n",
    "\n",
    "classifier = LogisticRegression(C=10, penalty='l1',\n",
    "                                      solver='saga',\n",
    "                                      multi_class='multinomial',\n",
    "                                      max_iter=10000)\n",
    "\n",
    "classifier.fit(X, y)\n",
    "\n",
    "model_params_filename = 'lr_model.sav'\n",
    "pickle.dump(classifier, open(model_params_filename, 'wb'))\n"
   ]
  },
  {
   "cell_type": "code",
   "execution_count": 2,
   "metadata": {},
   "outputs": [],
   "source": [
    "# load the classifier\n",
    "classifier = pickle.load(open(model_params_filename, 'rb'))"
   ]
  },
  {
   "cell_type": "markdown",
   "metadata": {},
   "source": [
    "## Quantity of Interest: the ratio of unchanged label \n",
    "\n",
    "We determine that we want to evaluate the influence of four features: `sepal length`, `sepal width`, `petal length`, `petal width` on the prediction of 3 possible kinds of iris flower."
   ]
  },
  {
   "cell_type": "code",
   "execution_count": 3,
   "metadata": {},
   "outputs": [],
   "source": [
    "from qii.qii import QII\n",
    "from qii.predictor import QIIPredictor\n",
    "from qii.qoi import QuantityOfInterest\n",
    "\n",
    "class LRPredictor(QIIPredictor):\n",
    "    def __init__(self, predictor):\n",
    "        super(LRPredictor, self).__init__(predictor)\n",
    "        \n",
    "    def predict(self, x):\n",
    "        # predict the label for instance x\n",
    "        return self._predictor.predict(x) \n",
    "    \n",
    "lr_predictor = LRPredictor(classifier)\n",
    "quantity_of_interest = QuantityOfInterest()\n",
    "qii = QII(X, n_features, quantity_of_interest)"
   ]
  },
  {
   "cell_type": "markdown",
   "metadata": {},
   "source": [
    "By default, `QuantityOfInterest` support the quantity of interest `label_unchanged_ratio`.\n",
    "We can now compute the Shapley and Banzhaf values of a particular instance.\n",
    "Note that because the number of features are very small in this dataset, we can compute the influence scores exactly. On the other hand, if the dataset is too big with many features, we have to sampling, which makes the obtained influence scores vary in a certain range of values.\n",
    "\n",
    "We now test with the data point `x_0`."
   ]
  },
  {
   "cell_type": "code",
   "execution_count": 4,
   "metadata": {},
   "outputs": [
    {
     "name": "stdout",
     "output_type": "stream",
     "text": [
      "Percent: [####################] 100% Count: 24 Approx: 16.00 | Done...\n",
      "Shapley: \n",
      "{0: 0.0, 1: 0.0, 2: 0.6666666666666664, 3: 0.0}\n",
      "\n",
      "\n",
      "Percent: [####################] 100% Count: 15 Approx: 5.33 | Done...\n",
      "Banzhaf: \n",
      "{0: 0.0, 1: 0.0, 2: 0.3555555555555557, 3: 0.0}\n"
     ]
    }
   ],
   "source": [
    "x_0_idx = 42\n",
    "x_0 = X[x_0_idx:x_0_idx+1]\n",
    "\n",
    "shapley_vals =  qii.compute(x_0=x_0, predictor=lr_predictor, \n",
    "                            show_approx=True, evaluated_features=None,\n",
    "                            data_exhaustive=True, feature_exhaustive=True,\n",
    "                            method='shapley')\n",
    "print ('Shapley: \\n{0}\\n\\n'.format(shapley_vals))\n",
    "\n",
    "\n",
    "\n",
    "banzhaf_vals =  qii.compute(x_0=x_0, predictor=lr_predictor, \n",
    "                            show_approx=True, evaluated_features=None,\n",
    "                            data_exhaustive=True, feature_exhaustive=True,\n",
    "                            method='banzhaf')\n",
    "\n",
    "print ('Banzhaf: \\n{0}'.format(banzhaf_vals))"
   ]
  },
  {
   "cell_type": "markdown",
   "metadata": {},
   "source": [
    "According to the influence score, changing the values of `sepal length`, `sepal width`, and `petal width` has no effect on the outcome of the model. We can do a sanity check on this."
   ]
  },
  {
   "cell_type": "code",
   "execution_count": 5,
   "metadata": {},
   "outputs": [
    {
     "name": "stdout",
     "output_type": "stream",
     "text": [
      "Original prediction y_0 = [0]\n",
      "Prediction when replace feature 0, 1, and 3 with their empirical distribution on x_0:\n",
      "[0 0 0 0 0 0 0 0 0 0 0 0 0 0 0 0 0 0 0 0 0 0 0 0 0 0 0 0 0 0 0 0 0 0 0 0 0\n",
      " 0 0 0 0 0 0 0 0 0 0 0 0 0 0 0 0 0 0 0 0 0 0 0 0 0 0 0 0 0 0 0 0 0 0 0 0 0\n",
      " 0 0 0 0 0 0 0 0 0 0 0 0 0 0 0 0 0 0 0 0 0 0 0 0 0 0 0 0 0 0 0 0 0 0 0 0 0\n",
      " 0 0 0 0 0 0 0 0 0 0 0 0 0 0 0 0 0 0 0 0 0 0 0 0 0 0 0 0 0 0 0 0 0 0 0 0 0\n",
      " 0 0]\n"
     ]
    }
   ],
   "source": [
    "import numpy as np\n",
    "\n",
    "print ('Original prediction y_0 = {}'.format(classifier.predict(x_0)))\n",
    "\n",
    "print ('Prediction when replace feature 0, 1, and 3 with their empirical distribution on x_0:')\n",
    "X_sampled = np.repeat(x_0, X.shape[0], axis=0)\n",
    "for feature_idx in [0, 1, 3]:     \n",
    "    X_sampled[:, feature_idx] = X[:, feature_idx]\n",
    "print (classifier.predict(X_sampled))"
   ]
  },
  {
   "cell_type": "code",
   "execution_count": 6,
   "metadata": {},
   "outputs": [
    {
     "name": "stdout",
     "output_type": "stream",
     "text": [
      "Original prediction y_0 = [0]\n",
      "Prediction when replace feature 2 with their empirical distribution on x_0:\n",
      "[0 0 0 0 0 0 0 0 0 0 0 0 0 0 0 0 0 0 0 0 0 0 0 0 0 0 0 0 0 0 0 0 0 0 0 0 0\n",
      " 0 0 0 0 0 0 0 0 0 0 0 0 0 1 1 1 1 1 1 1 1 1 1 1 1 1 1 1 1 1 1 1 1 1 1 1 1\n",
      " 1 1 1 1 1 1 1 1 1 1 1 1 1 1 1 1 1 1 1 1 1 1 1 1 1 1 1 1 1 1 1 1 1 1 1 1 1\n",
      " 1 1 1 1 1 1 2 2 1 1 1 2 1 1 1 1 1 1 1 1 1 1 1 1 1 1 1 1 1 1 1 1 1 1 1 1 1\n",
      " 1 1]\n"
     ]
    }
   ],
   "source": [
    "print ('Original prediction y_0 = {}'.format(classifier.predict(x_0)))\n",
    "\n",
    "print ('Prediction when replace feature 2 with their empirical distribution on x_0:')\n",
    "X_sampled = np.repeat(x_0, X.shape[0], axis=0)\n",
    "X_sampled[:, 2] = X[:, 2]\n",
    "print (classifier.predict(X_sampled))"
   ]
  },
  {
   "cell_type": "markdown",
   "metadata": {},
   "source": [
    "## Quantity of Interest: the prediction probability of label 0\n",
    "\n",
    "It is flexible to define a new quantity of interest. To study the model above further, we can try to see how each feature influence on the prediction probability of predicted label, namely label 0, of data point `x_0`. "
   ]
  },
  {
   "cell_type": "code",
   "execution_count": 7,
   "metadata": {},
   "outputs": [],
   "source": [
    "class LRPredictor_Prob_0(QIIPredictor):\n",
    "    def __init__(self, predictor):\n",
    "        super(LRPredictor_Prob_0, self).__init__(predictor)\n",
    "        \n",
    "    def predict(self, x):\n",
    "        # prediction probability of the label 0 of instance x\n",
    "        return self._predictor.predict_proba(x)[:, 0]"
   ]
  },
  {
   "cell_type": "code",
   "execution_count": 8,
   "metadata": {},
   "outputs": [],
   "source": [
    "def compute_prob_0(x_0, x_pool, feature_idxs, predictor):\n",
    "        \"\"\"\n",
    "        Compute the ratio of changed predicted label when replace features\n",
    "        in feature_ind with their empirical distribution, with respect to \n",
    "        data point x_0 and its predicted label.\n",
    "        \n",
    "        @params:\n",
    "            - x_0: point of interest, following the format of predictor's input.\n",
    "            - x_pool: sampled data points from the dataset used for training\n",
    "            the predictor, following the format of predictor's input.\n",
    "            - feature_idxs: list of index of features to be replaced with their\n",
    "            empirical distribution, 1-D list.\n",
    "            - predictor: a classification model, child class of QII_Predictor.\n",
    "        @returns:\n",
    "            - label_changed_ratio: real value has value in range [0., 1.]\n",
    "        \"\"\"\n",
    "        # 1. determine the prediction probability of label 0 of x_0\n",
    "        prob_0 = predictor.predict(x_0)\n",
    "        \n",
    "        # 2. sample emperical data and replace them with values of x_0\n",
    "        x_sampled = QuantityOfInterest()._sample_empirical_data(x_0, x_pool, feature_idxs)\n",
    "\n",
    "        # 3. make prediction on x_0 and compute average change in prediction probability of label 0\n",
    "        prob_0s = predictor.predict(x_sampled)\n",
    "        change_in_prob_0 = np.mean(prob_0s - prob_0)\n",
    "        \n",
    "        return change_in_prob_0"
   ]
  },
  {
   "cell_type": "code",
   "execution_count": 9,
   "metadata": {},
   "outputs": [],
   "source": [
    "lr_predictor = LRPredictor_Prob_0(classifier)\n",
    "\n",
    "quantity_of_interest = QuantityOfInterest()\n",
    "quantity_of_interest.add_qoi(method_name='compute_prob_0', method=compute_prob_0)\n",
    "quantity_of_interest.set_qoi(method_name='compute_prob_0')\n",
    "\n",
    "qii = QII(X, n_features, quantity_of_interest)"
   ]
  },
  {
   "cell_type": "code",
   "execution_count": 10,
   "metadata": {},
   "outputs": [
    {
     "name": "stdout",
     "output_type": "stream",
     "text": [
      "Percent: [####################] 100% Count: 24 Approx: 15.98 | Done...\n",
      "Shapley: \n",
      "{0: -0.0016149929416511856, 1: 0.0039580177451404705, 2: 0.664431393030562, 3: -0.0009284269629120341}\n",
      "\n",
      "\n",
      "Percent: [####################] 100% Count: 15 Approx: 5.31 | Done...\n",
      "Banzhaf: \n",
      "{0: -0.0011004317834842324, 1: 0.0015843166679019814, 2: 0.3540388992687196, 3: -0.0006423941170941749}\n"
     ]
    }
   ],
   "source": [
    "x_0_idx = 42\n",
    "x_0 = X[x_0_idx:x_0_idx+1]\n",
    "\n",
    "shapley_vals =  qii.compute(x_0=x_0, predictor=lr_predictor, \n",
    "                            show_approx=True, evaluated_features=None,\n",
    "                            data_exhaustive=True, feature_exhaustive=True,\n",
    "                            method='shapley')\n",
    "print ('Shapley: \\n{0}\\n\\n'.format(shapley_vals))\n",
    "\n",
    "\n",
    "\n",
    "banzhaf_vals =  qii.compute(x_0=x_0, predictor=lr_predictor, \n",
    "                            show_approx=True, evaluated_features=None,\n",
    "                            data_exhaustive=True, feature_exhaustive=True,\n",
    "                            method='banzhaf')\n",
    "\n",
    "print ('Banzhaf: \\n{0}'.format(banzhaf_vals))"
   ]
  },
  {
   "cell_type": "markdown",
   "metadata": {},
   "source": [
    "It is now clearer that all features do have influence on the predicted label of `x_0`, however, their magnitudes are different."
   ]
  },
  {
   "cell_type": "code",
   "execution_count": 11,
   "metadata": {},
   "outputs": [
    {
     "data": {
      "image/png": "[encoded data removed]",
      "text/plain": [
       "<Figure size 432x288 with 1 Axes>"
      ]
     },
     "metadata": {
      "needs_background": "light"
     },
     "output_type": "display_data"
    }
   ],
   "source": [
    "%matplotlib inline\n",
    "from matplotlib.ticker import FuncFormatter\n",
    "import matplotlib.pyplot as plt\n",
    "import numpy as np\n",
    "\n",
    "features = np.arange(4)\n",
    "feature_names = ('sepal length', 'sepal width', 'petal length', 'petal width')\n",
    "influence_scores = [-0.0016303829505296557, 0.003923190062659191, 0.6644563051297787, -0.0009144238916397686]\n",
    "fig, ax = plt.subplots()\n",
    "plt.bar(features, influence_scores)\n",
    "plt.xticks(features, feature_names)\n",
    "plt.title('Shapley value of data point 42')\n",
    "plt.show()"
   ]
  }
 ],
 "metadata": {
  "kernelspec": {
   "display_name": "Python 3 - Test package",
   "language": "python",
   "name": "test_package"
  },
  "language_info": {
   "codemirror_mode": {
    "name": "ipython",
    "version": 3
   },
   "file_extension": ".py",
   "mimetype": "text/x-python",
   "name": "python",
   "nbconvert_exporter": "python",
   "pygments_lexer": "ipython3",
   "version": "3.7.0"
  }
 },
 "nbformat": 4,
 "nbformat_minor": 2
}
