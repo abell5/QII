{
 "cells": [
  {
   "cell_type": "markdown",
   "metadata": {},
   "source": [
    "# Train a classifier"
   ]
  },
  {
   "cell_type": "code",
   "execution_count": 1,
   "metadata": {},
   "outputs": [
    {
     "data": {
      "image/png": "[encoded data removed]",
      "text/plain": [
       "<Figure size 432x288 with 16 Axes>"
      ]
     },
     "metadata": {
      "needs_background": "light"
     },
     "output_type": "display_data"
    }
   ],
   "source": [
    "# Adapted from: https://scikit-learn.org/stable/auto_examples/classification/plot_digits_classification.html#sphx-glr-auto-examples-classification-plot-digits-classification-py\n",
    "# Author: Gael Varoquaux <gael dot varoquaux at normalesup dot org>\n",
    "# License: BSD 3 clause\n",
    "\n",
    "%matplotlib inline\n",
    "import matplotlib.pyplot as plt\n",
    "from sklearn import datasets, svm, metrics\n",
    "\n",
    "digits = datasets.load_digits()\n",
    "\n",
    "images_and_labels = list(zip(digits.images, digits.target))\n",
    "for index, (image, label) in enumerate(images_and_labels[:16]):\n",
    "    plt.subplot(4, 4, index + 1)\n",
    "    plt.axis('off')\n",
    "    plt.imshow(image, cmap=plt.cm.gray_r, interpolation='nearest')\n",
    "    plt.title('Training: %i' % label)"
   ]
  },
  {
   "cell_type": "code",
   "execution_count": 2,
   "metadata": {},
   "outputs": [],
   "source": [
    "import pickle\n",
    "\n",
    "n_samples = len(digits.images)\n",
    "X = digits.images.reshape((n_samples, -1))\n",
    "n_features = 64\n",
    "\n",
    "classifier = svm.SVC(gamma=0.001)\n",
    "classifier.fit(X[:n_samples // 2], digits.target[:n_samples // 2])\n",
    "\n",
    "model_params_filename = 'svc_model.sav'\n",
    "pickle.dump(classifier, open(model_params_filename, 'wb'))"
   ]
  },
  {
   "cell_type": "code",
   "execution_count": 3,
   "metadata": {},
   "outputs": [],
   "source": [
    "# load the classifier\n",
    "classifier = pickle.load(open(model_params_filename, 'rb'))"
   ]
  },
  {
   "cell_type": "markdown",
   "metadata": {},
   "source": [
    "## Quantity of Interest: the ratio of unchanged label \n",
    "\n",
    "We determine that we want to evaluate the influence of 64 pixels on the prediction of 10 possible kinds of digits. This time we have to sample the feature set - 64 pixels, because we are unable to explore all possible combinations."
   ]
  },
  {
   "cell_type": "code",
   "execution_count": 4,
   "metadata": {},
   "outputs": [],
   "source": [
    "from qii.qii import QII\n",
    "from qii.predictor import QIIPredictor\n",
    "from qii.qoi import QuantityOfInterest\n",
    "\n",
    "class SVCPredictor(QIIPredictor):\n",
    "    def __init__(self, predictor):\n",
    "        super(SVCPredictor, self).__init__(predictor)\n",
    "        \n",
    "    def predict(self, x):\n",
    "        # predict the label for instance x\n",
    "        return self._predictor.predict(x) \n",
    "    \n",
    "svc_predictor = SVCPredictor(classifier)\n",
    "quantity_of_interest = QuantityOfInterest()\n",
    "qii = QII(X, n_features, quantity_of_interest)"
   ]
  },
  {
   "cell_type": "code",
   "execution_count": 5,
   "metadata": {},
   "outputs": [
    {
     "name": "stdout",
     "output_type": "stream",
     "text": [
      "Percent: [####################] 100% Count: 600 Approx: 539.00 | Done...\n",
      "Shapley: \n",
      "{0: 0.0, 1: 9.444444444444424e-05, 2: 0.014674999999999997, 3: 0.03598333333333336, 4: -0.0006166666666666668, 5: 0.0014666666666666673, 6: 0.002822222222222225, 7: 5.833333333333373e-05, 8: 0.0, 9: 0.00415, 10: 0.09529722222222226, 11: 0.029155555555555553, 12: 0.02479166666666671, 13: 0.020519444444444448, 14: 0.0033944444444444473, 15: 2.777777777777761e-05, 16: 0.0, 17: 0.005380555555555551, 18: 0.05664722222222224, 19: 0.03804444444444444, 20: 0.10446388888888883, 21: -4.722222222222241e-05, 22: 0.0015277777777777766, 23: 2.7777777777775645e-06, 24: 0.0, 25: 0.00037222222222222143, 26: 0.01258611111111111, 27: 0.04132222222222218, 28: 0.034608333333333345, 29: 0.004933333333333332, 30: 0.0036333333333333335, 31: 0.0, 32: 0.0, 33: 0.0037055555555555605, 34: 0.012066666666666651, 35: 0.008969444444444445, 36: 0.024302777777777805, 37: 0.013505555555555562, 38: 0.007705555555555549, 39: 0.0, 40: 0.0, 41: 0.009113888888888875, 42: 0.04214444444444443, 43: -0.0037138888888888885, 44: 0.05766666666666666, 45: 0.0022166666666666663, 46: 0.013458333333333329, 47: -2.777777777777842e-06, 48: -5.555555555555638e-06, 49: 0.0003722222222222222, 50: 0.04463333333333338, 51: -0.007552777777777775, 52: 0.04699166666666667, 53: 0.008669444444444445, 54: 0.0021305555555555552, 55: -0.00017500000000000024, 56: 0.0, 57: 3.055555555555531e-05, 58: 0.01672500000000001, 59: 0.04090833333333333, 60: 0.00522222222222222, 61: 0.016405555555555555, 62: -0.0021555555555555525, 63: -0.00029999999999999954}\n",
      "\n",
      "\n",
      "Percent: [####################] 100% Count: 600 Approx: 551.53 | Done...\n",
      "Banzhaf: \n",
      "{0: 0.0, 1: 9.166666666666725e-05, 2: 0.018288888888888903, 3: 0.04214999999999996, 4: -0.00018333333333333252, 5: 0.0007694444444444454, 6: 0.003419444444444446, 7: 0.00010555555555555577, 8: 0.0, 9: 0.004966666666666665, 10: 0.1087638888888889, 11: 0.029758333333333317, 12: 0.02841388888888888, 13: 0.012844444444444452, 14: 0.004533333333333333, 15: 3.888888888888849e-05, 16: 0.0, 17: 0.006486111111111107, 18: 0.05254722222222223, 19: 0.04540555555555557, 20: 0.09440833333333334, 21: 0.00013888888888888902, 22: 0.0024222222222222245, 23: 5.555555555555499e-06, 24: 0.0, 25: 0.0005194444444444452, 26: 0.017194444444444436, 27: 0.04556944444444445, 28: 0.025786111111111128, 29: 0.006441666666666669, 30: 0.004902777777777776, 31: 0.0, 32: 0.0, 33: 0.004263888888888889, 34: 0.010688888888888885, 35: 0.009655555555555563, 36: 0.023363888888888892, 37: 0.01371666666666667, 38: 0.007205555555555553, 39: 0.0, 40: 0.0, 41: 0.007166666666666659, 42: 0.03541944444444446, 43: -0.011255555555555552, 44: 0.06743611111111104, 45: 0.0017888888888888887, 46: 0.011838888888888899, 47: -5.555555555555591e-06, 48: -2.7777777777777495e-06, 49: 0.00017222222222222305, 50: 0.0406333333333333, 51: -0.006174999999999996, 52: 0.04769722222222223, 53: 0.00760555555555556, 54: 0.0036722222222222243, 55: -0.0001999999999999994, 56: 0.0, 57: -3.8888888888889094e-05, 58: 0.020163888888888898, 59: 0.045227777777777756, 60: 0.007458333333333328, 61: 0.018322222222222226, 62: -0.002091666666666667, 63: -0.00030833333333333234}\n"
     ]
    }
   ],
   "source": [
    "x_0_idx = 42\n",
    "x_0 = X[x_0_idx:x_0_idx+1]\n",
    "\n",
    "shapley_vals =  qii.compute(x_0=x_0, predictor=svc_predictor, \n",
    "                            show_approx=True, evaluated_features=None,\n",
    "                            data_exhaustive=False, feature_exhaustive=False,\n",
    "                            method='shapley')\n",
    "print ('Shapley: \\n{0}\\n\\n'.format(shapley_vals))\n",
    "\n",
    "\n",
    "banzhaf_vals =  qii.compute(x_0=x_0, predictor=svc_predictor, \n",
    "                            show_approx=True, evaluated_features=None,\n",
    "                            data_exhaustive=False, feature_exhaustive=False,\n",
    "                            method='banzhaf')\n",
    "\n",
    "print ('Banzhaf: \\n{0}'.format(banzhaf_vals))"
   ]
  },
  {
   "cell_type": "markdown",
   "metadata": {},
   "source": [
    "We can see that QII took a considerably longer amount of time to compute on larger dataset with many features. In such case, sampling the distribution to draw values from and sampling the feature set is a better approach. By default, `pool_size`=600 and `n_samplings`=600."
   ]
  },
  {
   "cell_type": "code",
   "execution_count": 6,
   "metadata": {
    "scrolled": false
   },
   "outputs": [
    {
     "data": {
      "image/png": "[encoded data removed]",
      "text/plain": [
       "<Figure size 432x288 with 1 Axes>"
      ]
     },
     "metadata": {
      "needs_background": "light"
     },
     "output_type": "display_data"
    },
    {
     "data": {
      "image/png": "[encoded data removed]",
      "text/plain": [
       "<Figure size 432x288 with 2 Axes>"
      ]
     },
     "metadata": {
      "needs_background": "light"
     },
     "output_type": "display_data"
    }
   ],
   "source": [
    "import numpy as np\n",
    "\n",
    "# original image\n",
    "plt.imshow(x_0.reshape(8, 8), cmap=plt.cm.gray_r, interpolation='nearest')\n",
    "plt.show()\n",
    "\n",
    "# heatmap computed by QII\n",
    "influence_scores = np.reshape([shapley_vals[i] for i in shapley_vals.keys()], (8, 8))\n",
    "plt.imshow(influence_scores)\n",
    "plt.colorbar()\n",
    "plt.show()"
   ]
  },
  {
   "cell_type": "code",
   "execution_count": 8,
   "metadata": {},
   "outputs": [
    {
     "data": {
      "image/png": "[encoded data removed]",
      "text/plain": [
       "<Figure size 432x288 with 1 Axes>"
      ]
     },
     "metadata": {
      "needs_background": "light"
     },
     "output_type": "display_data"
    },
    {
     "data": {
      "image/png": "[encoded data removed]",
      "text/plain": [
       "<Figure size 432x288 with 2 Axes>"
      ]
     },
     "metadata": {
      "needs_background": "light"
     },
     "output_type": "display_data"
    }
   ],
   "source": [
    "import numpy as np\n",
    "\n",
    "# original image\n",
    "plt.imshow(x_0.reshape(8, 8), cmap=plt.cm.gray_r, interpolation='nearest')\n",
    "plt.show()\n",
    "\n",
    "# heatmap computed by QII\n",
    "influence_scores = np.reshape([banzhaf_vals[i] for i in banzhaf_vals.keys()], (8, 8))\n",
    "plt.imshow(influence_scores)\n",
    "plt.colorbar()\n",
    "plt.show()"
   ]
  }
 ],
 "metadata": {
  "kernelspec": {
   "display_name": "Python 3 - Test package",
   "language": "python",
   "name": "test_package"
  },
  "language_info": {
   "codemirror_mode": {
    "name": "ipython",
    "version": 3
   },
   "file_extension": ".py",
   "mimetype": "text/x-python",
   "name": "python",
   "nbconvert_exporter": "python",
   "pygments_lexer": "ipython3",
   "version": "3.7.0"
  }
 },
 "nbformat": 4,
 "nbformat_minor": 2
}
